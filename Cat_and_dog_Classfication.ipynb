{
  "nbformat": 4,
  "nbformat_minor": 0,
  "metadata": {
    "colab": {
      "name": "Cat-and-dog-Classfication.ipynb",
      "provenance": [],
      "collapsed_sections": [],
      "authorship_tag": "ABX9TyOidATuURPc/76AtcPoKWCe",
      "include_colab_link": true
    },
    "kernelspec": {
      "name": "python3",
      "display_name": "Python 3"
    },
    "language_info": {
      "name": "python"
    }
  },
  "cells": [
    {
      "cell_type": "markdown",
      "metadata": {
        "id": "view-in-github",
        "colab_type": "text"
      },
      "source": [
        "<a href=\"https://colab.research.google.com/github/UurZer/Cat-And-Dog-Classification/blob/main/Cat_and_dog_Classfication.ipynb\" target=\"_parent\"><img src=\"https://colab.research.google.com/assets/colab-badge.svg\" alt=\"Open In Colab\"/></a>"
      ]
    },
    {
      "cell_type": "code",
      "metadata": {
        "id": "fqyWNfv_tiB7"
      },
      "source": [
        "from numpy import genfromtxt\n",
        "my_data=genfromtxt('/content/2. soru.csv',delimiter=',')"
      ],
      "execution_count": 7,
      "outputs": []
    },
    {
      "cell_type": "code",
      "metadata": {
        "colab": {
          "base_uri": "https://localhost:8080/"
        },
        "id": "GL3xWKF7wNL4",
        "outputId": "21554337-8dad-44af-cd72-80a662743f3c"
      },
      "source": [
        "my_data"
      ],
      "execution_count": 8,
      "outputs": [
        {
          "output_type": "execute_result",
          "data": {
            "text/plain": [
              "array([[4.  , 3.6 , 0.  ],\n",
              "       [4.  , 3.7 , 0.  ],\n",
              "       [4.  , 3.8 , 0.  ],\n",
              "       [4.  , 3.9 , 0.  ],\n",
              "       [4.  , 4.  , 0.  ],\n",
              "       [4.  , 4.1 , 0.  ],\n",
              "       [4.  , 4.2 , 0.  ],\n",
              "       [4.  , 4.3 , 0.  ],\n",
              "       [4.  , 4.4 , 0.  ],\n",
              "       [4.  , 4.5 , 0.  ],\n",
              "       [4.  , 4.  , 0.  ],\n",
              "       [4.  , 3.4 , 0.  ],\n",
              "       [4.  , 3.5 , 0.  ],\n",
              "       [4.  , 3.3 , 0.  ],\n",
              "       [4.  , 3.  , 0.  ],\n",
              "       [2.  , 0.5 , 1.  ],\n",
              "       [2.  , 0.8 , 1.  ],\n",
              "       [2.  , 0.9 , 1.  ],\n",
              "       [2.  , 1.  , 1.  ],\n",
              "       [2.  , 1.1 , 1.  ],\n",
              "       [2.  , 1.  , 1.  ],\n",
              "       [2.  , 1.2 , 1.  ],\n",
              "       [2.  , 1.3 , 1.  ],\n",
              "       [2.  , 1.4 , 1.  ],\n",
              "       [2.  , 1.5 , 1.  ],\n",
              "       [2.  , 1.6 , 1.  ],\n",
              "       [2.  , 1.7 , 1.  ],\n",
              "       [2.  , 1.8 , 1.  ],\n",
              "       [2.  , 1.9 , 1.  ],\n",
              "       [2.  , 1.65, 1.  ],\n",
              "       [2.  , 1.75, 1.  ]])"
            ]
          },
          "metadata": {
            "tags": []
          },
          "execution_count": 8
        }
      ]
    },
    {
      "cell_type": "code",
      "metadata": {
        "colab": {
          "base_uri": "https://localhost:8080/"
        },
        "id": "bKfNn24MwQYG",
        "outputId": "59576c53-bec1-4de0-eecf-7f11e6e78bb7"
      },
      "source": [
        "my_data.shape#31 tane veri var ve her verinin 3 özelliği var(ayak sayısı,kilo,sınıf)"
      ],
      "execution_count": 9,
      "outputs": [
        {
          "output_type": "execute_result",
          "data": {
            "text/plain": [
              "(31, 3)"
            ]
          },
          "metadata": {
            "tags": []
          },
          "execution_count": 9
        }
      ]
    },
    {
      "cell_type": "code",
      "metadata": {
        "id": "rv1FfGT3wS5M"
      },
      "source": [
        "x=my_data[:,0:2]#Özellikler\n",
        "y=my_data[:,2]#Sınıflar olarak data mızı 2 ye ayırdık"
      ],
      "execution_count": 10,
      "outputs": []
    },
    {
      "cell_type": "code",
      "metadata": {
        "colab": {
          "base_uri": "https://localhost:8080/"
        },
        "id": "jXLjI5n5xmev",
        "outputId": "2b2bb772-754f-45ef-d859-36e62c9a9409"
      },
      "source": [
        "x#Özelliklerimiz"
      ],
      "execution_count": 11,
      "outputs": [
        {
          "output_type": "execute_result",
          "data": {
            "text/plain": [
              "array([[4.  , 3.6 ],\n",
              "       [4.  , 3.7 ],\n",
              "       [4.  , 3.8 ],\n",
              "       [4.  , 3.9 ],\n",
              "       [4.  , 4.  ],\n",
              "       [4.  , 4.1 ],\n",
              "       [4.  , 4.2 ],\n",
              "       [4.  , 4.3 ],\n",
              "       [4.  , 4.4 ],\n",
              "       [4.  , 4.5 ],\n",
              "       [4.  , 4.  ],\n",
              "       [4.  , 3.4 ],\n",
              "       [4.  , 3.5 ],\n",
              "       [4.  , 3.3 ],\n",
              "       [4.  , 3.  ],\n",
              "       [2.  , 0.5 ],\n",
              "       [2.  , 0.8 ],\n",
              "       [2.  , 0.9 ],\n",
              "       [2.  , 1.  ],\n",
              "       [2.  , 1.1 ],\n",
              "       [2.  , 1.  ],\n",
              "       [2.  , 1.2 ],\n",
              "       [2.  , 1.3 ],\n",
              "       [2.  , 1.4 ],\n",
              "       [2.  , 1.5 ],\n",
              "       [2.  , 1.6 ],\n",
              "       [2.  , 1.7 ],\n",
              "       [2.  , 1.8 ],\n",
              "       [2.  , 1.9 ],\n",
              "       [2.  , 1.65],\n",
              "       [2.  , 1.75]])"
            ]
          },
          "metadata": {
            "tags": []
          },
          "execution_count": 11
        }
      ]
    },
    {
      "cell_type": "code",
      "metadata": {
        "colab": {
          "base_uri": "https://localhost:8080/"
        },
        "id": "UIk-Uqd_xprr",
        "outputId": "68c07e44-abc8-4f77-8926-fbc3b96e7c6e"
      },
      "source": [
        "y#Sınıflarımız"
      ],
      "execution_count": 12,
      "outputs": [
        {
          "output_type": "execute_result",
          "data": {
            "text/plain": [
              "array([0., 0., 0., 0., 0., 0., 0., 0., 0., 0., 0., 0., 0., 0., 0., 1., 1.,\n",
              "       1., 1., 1., 1., 1., 1., 1., 1., 1., 1., 1., 1., 1., 1.])"
            ]
          },
          "metadata": {
            "tags": []
          },
          "execution_count": 12
        }
      ]
    },
    {
      "cell_type": "code",
      "metadata": {
        "colab": {
          "base_uri": "https://localhost:8080/"
        },
        "id": "12svMXXOzgXs",
        "outputId": "50b160e6-67c7-466a-cfed-2332112768bd"
      },
      "source": [
        "x[0].shape"
      ],
      "execution_count": 15,
      "outputs": [
        {
          "output_type": "execute_result",
          "data": {
            "text/plain": [
              "(2,)"
            ]
          },
          "metadata": {
            "tags": []
          },
          "execution_count": 15
        }
      ]
    },
    {
      "cell_type": "code",
      "metadata": {
        "colab": {
          "base_uri": "https://localhost:8080/"
        },
        "id": "BjYO0l1tzlfX",
        "outputId": "16e57ae0-0b4a-4beb-e2c2-0baf5af5ed3f"
      },
      "source": [
        "from keras import models\n",
        "from keras import layers\n",
        "\n",
        "network =models.Sequential()\n",
        "network.add(layers.Dense(12,activation='relu' ,input_shape=(2,)))\n",
        "network.add(layers.Dense(1,activation='sigmoid'))\n",
        "network.compile(optimizer='rmsprop',\n",
        "                loss=\"binary_crossentropy\",\n",
        "                metrics=['accuracy'])\n",
        "network.fit(x,y,epochs=150,batch_size=10)"
      ],
      "execution_count": 20,
      "outputs": [
        {
          "output_type": "stream",
          "text": [
            "Epoch 1/150\n",
            "4/4 [==============================] - 13s 4ms/step - loss: 0.8239 - accuracy: 0.5031\n",
            "Epoch 2/150\n",
            "4/4 [==============================] - 0s 3ms/step - loss: 0.7710 - accuracy: 0.5631\n",
            "Epoch 3/150\n",
            "4/4 [==============================] - 0s 3ms/step - loss: 0.7725 - accuracy: 0.5365\n",
            "Epoch 4/150\n",
            "4/4 [==============================] - 0s 3ms/step - loss: 0.7945 - accuracy: 0.4465\n",
            "Epoch 5/150\n",
            "4/4 [==============================] - 0s 3ms/step - loss: 0.7809 - accuracy: 0.4765\n",
            "Epoch 6/150\n",
            "4/4 [==============================] - 0s 3ms/step - loss: 0.7506 - accuracy: 0.5565\n",
            "Epoch 7/150\n",
            "4/4 [==============================] - 0s 3ms/step - loss: 0.7458 - accuracy: 0.5531\n",
            "Epoch 8/150\n",
            "4/4 [==============================] - 0s 3ms/step - loss: 0.7503 - accuracy: 0.4965\n",
            "Epoch 9/150\n",
            "4/4 [==============================] - 0s 5ms/step - loss: 0.7467 - accuracy: 0.4931\n",
            "Epoch 10/150\n",
            "4/4 [==============================] - 0s 4ms/step - loss: 0.7272 - accuracy: 0.5431\n",
            "Epoch 11/150\n",
            "4/4 [==============================] - 0s 3ms/step - loss: 0.7191 - accuracy: 0.5331\n",
            "Epoch 12/150\n",
            "4/4 [==============================] - 0s 3ms/step - loss: 0.7142 - accuracy: 0.4835\n",
            "Epoch 13/150\n",
            "4/4 [==============================] - 0s 4ms/step - loss: 0.7096 - accuracy: 0.4240\n",
            "Epoch 14/150\n",
            "4/4 [==============================] - 0s 4ms/step - loss: 0.7024 - accuracy: 0.3453\n",
            "Epoch 15/150\n",
            "4/4 [==============================] - 0s 4ms/step - loss: 0.6962 - accuracy: 0.3453\n",
            "Epoch 16/150\n",
            "4/4 [==============================] - 0s 3ms/step - loss: 0.6932 - accuracy: 0.3953\n",
            "Epoch 17/150\n",
            "4/4 [==============================] - 0s 4ms/step - loss: 0.6912 - accuracy: 0.3753\n",
            "Epoch 18/150\n",
            "4/4 [==============================] - 0s 3ms/step - loss: 0.6879 - accuracy: 0.4053\n",
            "Epoch 19/150\n",
            "4/4 [==============================] - 0s 3ms/step - loss: 0.6843 - accuracy: 0.5435\n",
            "Epoch 20/150\n",
            "4/4 [==============================] - 0s 3ms/step - loss: 0.6830 - accuracy: 0.5135\n",
            "Epoch 21/150\n",
            "4/4 [==============================] - 0s 4ms/step - loss: 0.6792 - accuracy: 0.4769\n",
            "Epoch 22/150\n",
            "4/4 [==============================] - 0s 3ms/step - loss: 0.6711 - accuracy: 0.5269\n",
            "Epoch 23/150\n",
            "4/4 [==============================] - 0s 3ms/step - loss: 0.6636 - accuracy: 0.5235\n",
            "Epoch 24/150\n",
            "4/4 [==============================] - 0s 4ms/step - loss: 0.6658 - accuracy: 0.4935\n",
            "Epoch 25/150\n",
            "4/4 [==============================] - 0s 5ms/step - loss: 0.6715 - accuracy: 0.4335\n",
            "Epoch 26/150\n",
            "4/4 [==============================] - 0s 4ms/step - loss: 0.6700 - accuracy: 0.4169\n",
            "Epoch 27/150\n",
            "4/4 [==============================] - 0s 3ms/step - loss: 0.6616 - accuracy: 0.4569\n",
            "Epoch 28/150\n",
            "4/4 [==============================] - 0s 3ms/step - loss: 0.6597 - accuracy: 0.4569\n",
            "Epoch 29/150\n",
            "4/4 [==============================] - 0s 5ms/step - loss: 0.6365 - accuracy: 0.5435\n",
            "Epoch 30/150\n",
            "4/4 [==============================] - 0s 3ms/step - loss: 0.6515 - accuracy: 0.4569\n",
            "Epoch 31/150\n",
            "4/4 [==============================] - 0s 3ms/step - loss: 0.6445 - accuracy: 0.4635\n",
            "Epoch 32/150\n",
            "4/4 [==============================] - 0s 2ms/step - loss: 0.6460 - accuracy: 0.4735\n",
            "Epoch 33/150\n",
            "4/4 [==============================] - 0s 2ms/step - loss: 0.6441 - accuracy: 0.4669\n",
            "Epoch 34/150\n",
            "4/4 [==============================] - 0s 2ms/step - loss: 0.6521 - accuracy: 0.4235\n",
            "Epoch 35/150\n",
            "4/4 [==============================] - 0s 3ms/step - loss: 0.6515 - accuracy: 0.4369\n",
            "Epoch 36/150\n",
            "4/4 [==============================] - 0s 3ms/step - loss: 0.6446 - accuracy: 0.4335\n",
            "Epoch 37/150\n",
            "4/4 [==============================] - 0s 4ms/step - loss: 0.6319 - accuracy: 0.4835\n",
            "Epoch 38/150\n",
            "4/4 [==============================] - 0s 3ms/step - loss: 0.6402 - accuracy: 0.4535\n",
            "Epoch 39/150\n",
            "4/4 [==============================] - 0s 3ms/step - loss: 0.6207 - accuracy: 0.5169\n",
            "Epoch 40/150\n",
            "4/4 [==============================] - 0s 2ms/step - loss: 0.6228 - accuracy: 0.4835\n",
            "Epoch 41/150\n",
            "4/4 [==============================] - 0s 2ms/step - loss: 0.6162 - accuracy: 0.5069\n",
            "Epoch 42/150\n",
            "4/4 [==============================] - 0s 2ms/step - loss: 0.6061 - accuracy: 0.5235\n",
            "Epoch 43/150\n",
            "4/4 [==============================] - 0s 2ms/step - loss: 0.6099 - accuracy: 0.5169\n",
            "Epoch 44/150\n",
            "4/4 [==============================] - 0s 5ms/step - loss: 0.6304 - accuracy: 0.4435\n",
            "Epoch 45/150\n",
            "4/4 [==============================] - 0s 3ms/step - loss: 0.6090 - accuracy: 0.5035\n",
            "Epoch 46/150\n",
            "4/4 [==============================] - 0s 3ms/step - loss: 0.6021 - accuracy: 0.5135\n",
            "Epoch 47/150\n",
            "4/4 [==============================] - 0s 2ms/step - loss: 0.6224 - accuracy: 0.4569\n",
            "Epoch 48/150\n",
            "4/4 [==============================] - 0s 4ms/step - loss: 0.6139 - accuracy: 0.4835\n",
            "Epoch 49/150\n",
            "4/4 [==============================] - 0s 3ms/step - loss: 0.6035 - accuracy: 0.5169\n",
            "Epoch 50/150\n",
            "4/4 [==============================] - 0s 3ms/step - loss: 0.6090 - accuracy: 0.4769\n",
            "Epoch 51/150\n",
            "4/4 [==============================] - 0s 3ms/step - loss: 0.6087 - accuracy: 0.4969\n",
            "Epoch 52/150\n",
            "4/4 [==============================] - 0s 2ms/step - loss: 0.5971 - accuracy: 0.5169\n",
            "Epoch 53/150\n",
            "4/4 [==============================] - 0s 3ms/step - loss: 0.6076 - accuracy: 0.4869\n",
            "Epoch 54/150\n",
            "4/4 [==============================] - 0s 2ms/step - loss: 0.5716 - accuracy: 0.5535\n",
            "Epoch 55/150\n",
            "4/4 [==============================] - 0s 2ms/step - loss: 0.5944 - accuracy: 0.5069\n",
            "Epoch 56/150\n",
            "4/4 [==============================] - 0s 3ms/step - loss: 0.6255 - accuracy: 0.4069\n",
            "Epoch 57/150\n",
            "4/4 [==============================] - 0s 2ms/step - loss: 0.5868 - accuracy: 0.4969\n",
            "Epoch 58/150\n",
            "4/4 [==============================] - 0s 4ms/step - loss: 0.6113 - accuracy: 0.4469\n",
            "Epoch 59/150\n",
            "4/4 [==============================] - 0s 3ms/step - loss: 0.6007 - accuracy: 0.4669\n",
            "Epoch 60/150\n",
            "4/4 [==============================] - 0s 3ms/step - loss: 0.5941 - accuracy: 0.4735\n",
            "Epoch 61/150\n",
            "4/4 [==============================] - 0s 3ms/step - loss: 0.5949 - accuracy: 0.4735\n",
            "Epoch 62/150\n",
            "4/4 [==============================] - 0s 3ms/step - loss: 0.6134 - accuracy: 0.4369\n",
            "Epoch 63/150\n",
            "4/4 [==============================] - 0s 3ms/step - loss: 0.6126 - accuracy: 0.4469\n",
            "Epoch 64/150\n",
            "4/4 [==============================] - 0s 2ms/step - loss: 0.5815 - accuracy: 0.5035\n",
            "Epoch 65/150\n",
            "4/4 [==============================] - 0s 2ms/step - loss: 0.5874 - accuracy: 0.4869\n",
            "Epoch 66/150\n",
            "4/4 [==============================] - 0s 3ms/step - loss: 0.5765 - accuracy: 0.5035\n",
            "Epoch 67/150\n",
            "4/4 [==============================] - 0s 2ms/step - loss: 0.5670 - accuracy: 0.5335\n",
            "Epoch 68/150\n",
            "4/4 [==============================] - 0s 3ms/step - loss: 0.5784 - accuracy: 0.4835\n",
            "Epoch 69/150\n",
            "4/4 [==============================] - 0s 2ms/step - loss: 0.5905 - accuracy: 0.4865\n",
            "Epoch 70/150\n",
            "4/4 [==============================] - 0s 2ms/step - loss: 0.5758 - accuracy: 0.5231\n",
            "Epoch 71/150\n",
            "4/4 [==============================] - 0s 2ms/step - loss: 0.5751 - accuracy: 0.5231\n",
            "Epoch 72/150\n",
            "4/4 [==============================] - 0s 2ms/step - loss: 0.5805 - accuracy: 0.5431\n",
            "Epoch 73/150\n",
            "4/4 [==============================] - 0s 2ms/step - loss: 0.5776 - accuracy: 0.5331\n",
            "Epoch 74/150\n",
            "4/4 [==============================] - 0s 3ms/step - loss: 0.5904 - accuracy: 0.5260\n",
            "Epoch 75/150\n",
            "4/4 [==============================] - 0s 3ms/step - loss: 0.5504 - accuracy: 0.5865\n",
            "Epoch 76/150\n",
            "4/4 [==============================] - 0s 3ms/step - loss: 0.5666 - accuracy: 0.5331\n",
            "Epoch 77/150\n",
            "4/4 [==============================] - 0s 3ms/step - loss: 0.5833 - accuracy: 0.4865\n",
            "Epoch 78/150\n",
            "4/4 [==============================] - 0s 5ms/step - loss: 0.5740 - accuracy: 0.5165\n",
            "Epoch 79/150\n",
            "4/4 [==============================] - 0s 3ms/step - loss: 0.5666 - accuracy: 0.5231\n",
            "Epoch 80/150\n",
            "4/4 [==============================] - 0s 4ms/step - loss: 0.5633 - accuracy: 0.5365\n",
            "Epoch 81/150\n",
            "4/4 [==============================] - 0s 4ms/step - loss: 0.5542 - accuracy: 0.5565\n",
            "Epoch 82/150\n",
            "4/4 [==============================] - 0s 3ms/step - loss: 0.5849 - accuracy: 0.4865\n",
            "Epoch 83/150\n",
            "4/4 [==============================] - 0s 2ms/step - loss: 0.5971 - accuracy: 0.4631\n",
            "Epoch 84/150\n",
            "4/4 [==============================] - 0s 3ms/step - loss: 0.5642 - accuracy: 0.5165\n",
            "Epoch 85/150\n",
            "4/4 [==============================] - 0s 3ms/step - loss: 0.5630 - accuracy: 0.5365\n",
            "Epoch 86/150\n",
            "4/4 [==============================] - 0s 3ms/step - loss: 0.5433 - accuracy: 0.5465\n",
            "Epoch 87/150\n",
            "4/4 [==============================] - 0s 3ms/step - loss: 0.5448 - accuracy: 0.5531\n",
            "Epoch 88/150\n",
            "4/4 [==============================] - 0s 4ms/step - loss: 0.5789 - accuracy: 0.4765\n",
            "Epoch 89/150\n",
            "4/4 [==============================] - 0s 2ms/step - loss: 0.5851 - accuracy: 0.4865\n",
            "Epoch 90/150\n",
            "4/4 [==============================] - 0s 3ms/step - loss: 0.5420 - accuracy: 0.5531\n",
            "Epoch 91/150\n",
            "4/4 [==============================] - 0s 4ms/step - loss: 0.5481 - accuracy: 0.5231\n",
            "Epoch 92/150\n",
            "4/4 [==============================] - 0s 7ms/step - loss: 0.5167 - accuracy: 0.6027\n",
            "Epoch 93/150\n",
            "4/4 [==============================] - 0s 4ms/step - loss: 0.5705 - accuracy: 0.5327\n",
            "Epoch 94/150\n",
            "4/4 [==============================] - 0s 3ms/step - loss: 0.5403 - accuracy: 0.5627\n",
            "Epoch 95/150\n",
            "4/4 [==============================] - 0s 4ms/step - loss: 0.5530 - accuracy: 0.5856\n",
            "Epoch 96/150\n",
            "4/4 [==============================] - 0s 4ms/step - loss: 0.5560 - accuracy: 0.5756\n",
            "Epoch 97/150\n",
            "4/4 [==============================] - 0s 3ms/step - loss: 0.5681 - accuracy: 0.5656\n",
            "Epoch 98/150\n",
            "4/4 [==============================] - 0s 3ms/step - loss: 0.5337 - accuracy: 0.5760\n",
            "Epoch 99/150\n",
            "4/4 [==============================] - 0s 3ms/step - loss: 0.5539 - accuracy: 0.5560\n",
            "Epoch 100/150\n",
            "4/4 [==============================] - 0s 2ms/step - loss: 0.5683 - accuracy: 0.4960\n",
            "Epoch 101/150\n",
            "4/4 [==============================] - 0s 3ms/step - loss: 0.5521 - accuracy: 0.5427\n",
            "Epoch 102/150\n",
            "4/4 [==============================] - 0s 3ms/step - loss: 0.5465 - accuracy: 0.5527\n",
            "Epoch 103/150\n",
            "4/4 [==============================] - 0s 3ms/step - loss: 0.5266 - accuracy: 0.6123\n",
            "Epoch 104/150\n",
            "4/4 [==============================] - 0s 3ms/step - loss: 0.5321 - accuracy: 0.6056\n",
            "Epoch 105/150\n",
            "4/4 [==============================] - 0s 2ms/step - loss: 0.5597 - accuracy: 0.5156\n",
            "Epoch 106/150\n",
            "4/4 [==============================] - 0s 3ms/step - loss: 0.5382 - accuracy: 0.5756\n",
            "Epoch 107/150\n",
            "4/4 [==============================] - 0s 3ms/step - loss: 0.5061 - accuracy: 0.6423\n",
            "Epoch 108/150\n",
            "4/4 [==============================] - 0s 3ms/step - loss: 0.5319 - accuracy: 0.5923\n",
            "Epoch 109/150\n",
            "4/4 [==============================] - 0s 3ms/step - loss: 0.5117 - accuracy: 0.6847\n",
            "Epoch 110/150\n",
            "4/4 [==============================] - 0s 2ms/step - loss: 0.5303 - accuracy: 0.6347\n",
            "Epoch 111/150\n",
            "4/4 [==============================] - 0s 4ms/step - loss: 0.5353 - accuracy: 0.6647\n",
            "Epoch 112/150\n",
            "4/4 [==============================] - 0s 3ms/step - loss: 0.5305 - accuracy: 0.6547\n",
            "Epoch 113/150\n",
            "4/4 [==============================] - 0s 4ms/step - loss: 0.5043 - accuracy: 0.6323\n",
            "Epoch 114/150\n",
            "4/4 [==============================] - 0s 3ms/step - loss: 0.5156 - accuracy: 0.6647\n",
            "Epoch 115/150\n",
            "4/4 [==============================] - 0s 3ms/step - loss: 0.5186 - accuracy: 0.6747\n",
            "Epoch 116/150\n",
            "4/4 [==============================] - 0s 3ms/step - loss: 0.5067 - accuracy: 0.7014\n",
            "Epoch 117/150\n",
            "4/4 [==============================] - 0s 3ms/step - loss: 0.5246 - accuracy: 0.6047\n",
            "Epoch 118/150\n",
            "4/4 [==============================] - 0s 2ms/step - loss: 0.5052 - accuracy: 0.7347\n",
            "Epoch 119/150\n",
            "4/4 [==============================] - 0s 4ms/step - loss: 0.5193 - accuracy: 0.6447\n",
            "Epoch 120/150\n",
            "4/4 [==============================] - 0s 4ms/step - loss: 0.5193 - accuracy: 0.6647\n",
            "Epoch 121/150\n",
            "4/4 [==============================] - 0s 3ms/step - loss: 0.5166 - accuracy: 0.6547\n",
            "Epoch 122/150\n",
            "4/4 [==============================] - 0s 3ms/step - loss: 0.5163 - accuracy: 0.6447\n",
            "Epoch 123/150\n",
            "4/4 [==============================] - 0s 4ms/step - loss: 0.5231 - accuracy: 0.6214\n",
            "Epoch 124/150\n",
            "4/4 [==============================] - 0s 3ms/step - loss: 0.5384 - accuracy: 0.6414\n",
            "Epoch 125/150\n",
            "4/4 [==============================] - 0s 5ms/step - loss: 0.5102 - accuracy: 0.6810\n",
            "Epoch 126/150\n",
            "4/4 [==============================] - 0s 4ms/step - loss: 0.5133 - accuracy: 0.6543\n",
            "Epoch 127/150\n",
            "4/4 [==============================] - 0s 3ms/step - loss: 0.5312 - accuracy: 0.6343\n",
            "Epoch 128/150\n",
            "4/4 [==============================] - 0s 3ms/step - loss: 0.4961 - accuracy: 0.7410\n",
            "Epoch 129/150\n",
            "4/4 [==============================] - 0s 3ms/step - loss: 0.5114 - accuracy: 0.6943\n",
            "Epoch 130/150\n",
            "4/4 [==============================] - 0s 3ms/step - loss: 0.4986 - accuracy: 0.6743\n",
            "Epoch 131/150\n",
            "4/4 [==============================] - 0s 3ms/step - loss: 0.5132 - accuracy: 0.6710\n",
            "Epoch 132/150\n",
            "4/4 [==============================] - 0s 3ms/step - loss: 0.5101 - accuracy: 0.7139\n",
            "Epoch 133/150\n",
            "4/4 [==============================] - 0s 3ms/step - loss: 0.5096 - accuracy: 0.6739\n",
            "Epoch 134/150\n",
            "4/4 [==============================] - 0s 3ms/step - loss: 0.4839 - accuracy: 0.7305\n",
            "Epoch 135/150\n",
            "4/4 [==============================] - 0s 4ms/step - loss: 0.5238 - accuracy: 0.6934\n",
            "Epoch 136/150\n",
            "4/4 [==============================] - 0s 2ms/step - loss: 0.5056 - accuracy: 0.7301\n",
            "Epoch 137/150\n",
            "4/4 [==============================] - 0s 2ms/step - loss: 0.4948 - accuracy: 0.7734\n",
            "Epoch 138/150\n",
            "4/4 [==============================] - 0s 3ms/step - loss: 0.5287 - accuracy: 0.7134\n",
            "Epoch 139/150\n",
            "4/4 [==============================] - 0s 4ms/step - loss: 0.4973 - accuracy: 0.7534\n",
            "Epoch 140/150\n",
            "4/4 [==============================] - 0s 3ms/step - loss: 0.4995 - accuracy: 0.7334\n",
            "Epoch 141/150\n",
            "4/4 [==============================] - 0s 4ms/step - loss: 0.5074 - accuracy: 0.7134\n",
            "Epoch 142/150\n",
            "4/4 [==============================] - 0s 4ms/step - loss: 0.5155 - accuracy: 0.6734\n",
            "Epoch 143/150\n",
            "4/4 [==============================] - 0s 4ms/step - loss: 0.4982 - accuracy: 0.7534\n",
            "Epoch 144/150\n",
            "4/4 [==============================] - 0s 3ms/step - loss: 0.4955 - accuracy: 0.7734\n",
            "Epoch 145/150\n",
            "4/4 [==============================] - 0s 3ms/step - loss: 0.5051 - accuracy: 0.7039\n",
            "Epoch 146/150\n",
            "4/4 [==============================] - 0s 3ms/step - loss: 0.4969 - accuracy: 0.6739\n",
            "Epoch 147/150\n",
            "4/4 [==============================] - 0s 3ms/step - loss: 0.4941 - accuracy: 0.7334\n",
            "Epoch 148/150\n",
            "4/4 [==============================] - 0s 3ms/step - loss: 0.4791 - accuracy: 0.7305\n",
            "Epoch 149/150\n",
            "4/4 [==============================] - 0s 3ms/step - loss: 0.5141 - accuracy: 0.6834\n",
            "Epoch 150/150\n",
            "4/4 [==============================] - 0s 3ms/step - loss: 0.4865 - accuracy: 0.7534\n"
          ],
          "name": "stdout"
        },
        {
          "output_type": "execute_result",
          "data": {
            "text/plain": [
              "<keras.callbacks.History at 0x7fd4313a2ad0>"
            ]
          },
          "metadata": {
            "tags": []
          },
          "execution_count": 20
        }
      ]
    },
    {
      "cell_type": "code",
      "metadata": {
        "id": "4DUr657E2l95"
      },
      "source": [
        "my_test_data=genfromtxt('/content/2. soru Test.csv',delimiter=',')"
      ],
      "execution_count": 21,
      "outputs": []
    },
    {
      "cell_type": "code",
      "metadata": {
        "id": "MsR7soyQ2uOo"
      },
      "source": [
        "x_test=my_test_data[:,0:2]#Özellikler\n",
        "y_test=my_test_data[:,2]#Sınıflar olarak data mızı 2 ye ayırdık"
      ],
      "execution_count": 22,
      "outputs": []
    },
    {
      "cell_type": "code",
      "metadata": {
        "colab": {
          "base_uri": "https://localhost:8080/"
        },
        "id": "1t5ur4yG27fU",
        "outputId": "e6777509-a6fc-4e93-a1fd-67d034393bcb"
      },
      "source": [
        "#Tabi benim oluşturduğum test dataseti önceki verilere benzer olduduğu için\n",
        "#başarı ölçütü train'e göre daha başarılı çıktı.\n",
        "test_loss,test_acc=network.evaluate(x_test,y_test)"
      ],
      "execution_count": 26,
      "outputs": [
        {
          "output_type": "stream",
          "text": [
            "1/1 [==============================] - 0s 16ms/step - loss: 0.3137 - accuracy: 0.9048\n"
          ],
          "name": "stdout"
        }
      ]
    }
  ]
}